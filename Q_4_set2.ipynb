{
 "cells": [
  {
   "cell_type": "markdown",
   "id": "8eaaf9ec",
   "metadata": {},
   "source": [
    "Let X ~ N(100, 20^2). Find two values, a and b, symmetric about the mean, such that the probability of the random variable taking a value between them is 0.99. \n",
    "\n",
    "A.\t90.5, 105.9 \n",
    "B.\t80.2, 119.8 \n",
    "C.\t22, 78 \n",
    "D.\t48.5, 151.5 \n",
    "E.\t90.1, 109.9"
   ]
  },
  {
   "cell_type": "code",
   "execution_count": 1,
   "id": "11d6cae1",
   "metadata": {},
   "outputs": [],
   "source": [
    "import scipy.stats as stats"
   ]
  },
  {
   "cell_type": "code",
   "execution_count": 2,
   "id": "ba4449cc",
   "metadata": {},
   "outputs": [],
   "source": [
    "#Given Data\n",
    "pop_mean = 100\n",
    "std_dev = 20"
   ]
  },
  {
   "cell_type": "code",
   "execution_count": 5,
   "id": "702e20fc",
   "metadata": {},
   "outputs": [],
   "source": [
    "#For a normal distribution with mean and standard deviation,about 99% of the values lie within approximately \n",
    "#mean +_ 2.57*std_dev\n",
    "#finding the values of a & b\n",
    "a = pop_mean - 2.57 * std_dev\n",
    "b = pop_mean + 2.57 * std_dev "
   ]
  },
  {
   "cell_type": "code",
   "execution_count": 6,
   "id": "5d0ae2a8",
   "metadata": {},
   "outputs": [
    {
     "data": {
      "text/plain": [
       "48.6"
      ]
     },
     "execution_count": 6,
     "metadata": {},
     "output_type": "execute_result"
    }
   ],
   "source": [
    "a"
   ]
  },
  {
   "cell_type": "code",
   "execution_count": 7,
   "id": "b30fdc3c",
   "metadata": {},
   "outputs": [
    {
     "data": {
      "text/plain": [
       "151.4"
      ]
     },
     "execution_count": 7,
     "metadata": {},
     "output_type": "execute_result"
    }
   ],
   "source": [
    "b"
   ]
  },
  {
   "cell_type": "code",
   "execution_count": 10,
   "id": "43cd5947",
   "metadata": {},
   "outputs": [
    {
     "name": "stdout",
     "output_type": "stream",
     "text": [
      "The two values of a and b, symmetric about the mean, are such that the probability of the random variable taking a value between them is 0.99: 48.6 & 151.4\n"
     ]
    }
   ],
   "source": [
    "print('The two values of a and b, symmetric about the mean, are such that the probability of the random variable taking a value between them is 0.99:', a,'&',b)"
   ]
  },
  {
   "cell_type": "code",
   "execution_count": null,
   "id": "82c1490c",
   "metadata": {},
   "outputs": [],
   "source": []
  }
 ],
 "metadata": {
  "kernelspec": {
   "display_name": "Python 3 (ipykernel)",
   "language": "python",
   "name": "python3"
  },
  "language_info": {
   "codemirror_mode": {
    "name": "ipython",
    "version": 3
   },
   "file_extension": ".py",
   "mimetype": "text/x-python",
   "name": "python",
   "nbconvert_exporter": "python",
   "pygments_lexer": "ipython3",
   "version": "3.11.5"
  }
 },
 "nbformat": 4,
 "nbformat_minor": 5
}
