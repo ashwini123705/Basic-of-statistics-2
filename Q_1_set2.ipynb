{
 "cells": [
  {
   "cell_type": "code",
   "execution_count": 5,
   "id": "a6368a05",
   "metadata": {},
   "outputs": [],
   "source": [
    "import scipy.stats as stats"
   ]
  },
  {
   "cell_type": "code",
   "execution_count": 9,
   "id": "f623eed4",
   "metadata": {},
   "outputs": [
    {
     "data": {
      "text/plain": [
       "50"
      ]
     },
     "execution_count": 9,
     "metadata": {},
     "output_type": "execute_result"
    }
   ],
   "source": [
    "#Given Data\n",
    "pop_mean = 45 #mean of the distribution\n",
    "std_dev = 8 # standard deviation\n",
    "start_time = 10 #the transmission of a customer’s car 10 minutes\n",
    "time_limit = 60 #the car will be ready within 1 hour(60 minutes) from drop-off\n",
    "X = time_limit - start_time\n",
    "X #random variable (time in this case)"
   ]
  },
  {
   "cell_type": "code",
   "execution_count": 10,
   "id": "624f9055",
   "metadata": {},
   "outputs": [
    {
     "data": {
      "text/plain": [
       "0.625"
      ]
     },
     "execution_count": 10,
     "metadata": {},
     "output_type": "execute_result"
    }
   ],
   "source": [
    "#finding z-score\n",
    "Z = (X - pop_mean) / std_dev\n",
    "Z"
   ]
  },
  {
   "cell_type": "code",
   "execution_count": 13,
   "id": "61e921e2",
   "metadata": {},
   "outputs": [
    {
     "data": {
      "text/plain": [
       "0.26598552904870054"
      ]
     },
     "execution_count": 13,
     "metadata": {},
     "output_type": "execute_result"
    }
   ],
   "source": [
    "#we need to find the probability that a randomly selected time exceeds 50 minutes\n",
    "p_value = 1 - stats.norm.cdf(Z)\n",
    "p_value"
   ]
  },
  {
   "cell_type": "code",
   "execution_count": null,
   "id": "df38ca27",
   "metadata": {},
   "outputs": [],
   "source": []
  }
 ],
 "metadata": {
  "kernelspec": {
   "display_name": "Python 3 (ipykernel)",
   "language": "python",
   "name": "python3"
  },
  "language_info": {
   "codemirror_mode": {
    "name": "ipython",
    "version": 3
   },
   "file_extension": ".py",
   "mimetype": "text/x-python",
   "name": "python",
   "nbconvert_exporter": "python",
   "pygments_lexer": "ipython3",
   "version": "3.11.5"
  }
 },
 "nbformat": 4,
 "nbformat_minor": 5
}
