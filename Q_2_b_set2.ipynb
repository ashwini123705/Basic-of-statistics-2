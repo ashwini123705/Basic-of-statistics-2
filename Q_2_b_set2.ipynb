{
 "cells": [
  {
   "cell_type": "markdown",
   "id": "9dd90df3",
   "metadata": {},
   "source": [
    "2.\tThe current age (in years) of 400 clerical employees at an insurance claims processing center is normally distributed with mean  = 38 and Standard deviation  =6. For each statement below, please specify True/False. If false, briefly explain why.\n",
    "B.\tA training program for employees under the age of 30 at the center would be expected to attract about 36 employees."
   ]
  },
  {
   "cell_type": "code",
   "execution_count": 1,
   "id": "0025250e",
   "metadata": {},
   "outputs": [],
   "source": [
    "import scipy.stats as stats"
   ]
  },
  {
   "cell_type": "code",
   "execution_count": 4,
   "id": "b89367b8",
   "metadata": {},
   "outputs": [],
   "source": [
    "#Given Data\n",
    "pop_mean = 38\n",
    "std_dev = 6\n",
    "age = 30"
   ]
  },
  {
   "cell_type": "code",
   "execution_count": 5,
   "id": "b669f58f",
   "metadata": {},
   "outputs": [
    {
     "data": {
      "text/plain": [
       "-1.3333333333333333"
      ]
     },
     "execution_count": 5,
     "metadata": {},
     "output_type": "execute_result"
    }
   ],
   "source": [
    "#Calculate Z-score for 30\n",
    "Z = (age - pop_mean) / std_dev\n",
    "Z"
   ]
  },
  {
   "cell_type": "code",
   "execution_count": 6,
   "id": "bae06486",
   "metadata": {},
   "outputs": [
    {
     "data": {
      "text/plain": [
       "0.09121121972586788"
      ]
     },
     "execution_count": 6,
     "metadata": {},
     "output_type": "execute_result"
    }
   ],
   "source": [
    "#Calculate the probability of being under 30\n",
    "p_value = stats.norm.cdf(Z)\n",
    "p_value"
   ]
  },
  {
   "cell_type": "code",
   "execution_count": 7,
   "id": "48194bbb",
   "metadata": {},
   "outputs": [
    {
     "data": {
      "text/plain": [
       "36.484487890347154"
      ]
     },
     "execution_count": 7,
     "metadata": {},
     "output_type": "execute_result"
    }
   ],
   "source": [
    "#assuming a total 400 employees\n",
    "total_emp = 400\n",
    "#calculate the expected count under the target age\n",
    "excepted_count = p_value * total_emp\n",
    "excepted_count"
   ]
  },
  {
   "cell_type": "code",
   "execution_count": 8,
   "id": "4f53f078",
   "metadata": {},
   "outputs": [],
   "source": [
    "#Therefore, The expected count of 36 employees under the age of 30 is likely to be too high\n",
    "#hence, the statement is false"
   ]
  }
 ],
 "metadata": {
  "kernelspec": {
   "display_name": "Python 3 (ipykernel)",
   "language": "python",
   "name": "python3"
  },
  "language_info": {
   "codemirror_mode": {
    "name": "ipython",
    "version": 3
   },
   "file_extension": ".py",
   "mimetype": "text/x-python",
   "name": "python",
   "nbconvert_exporter": "python",
   "pygments_lexer": "ipython3",
   "version": "3.11.5"
  }
 },
 "nbformat": 4,
 "nbformat_minor": 5
}
