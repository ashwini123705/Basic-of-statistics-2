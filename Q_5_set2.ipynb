{
 "cells": [
  {
   "cell_type": "markdown",
   "id": "dd9e3a33",
   "metadata": {},
   "source": [
    "5.\tConsider a company that has two different divisions. The annual profits from the two divisions are independent and have distributions Profit1 ~ N(5, 3^2) and Profit2 ~ N(7, 4^2) respectively. Both the profits are in $ Million. Answer the following questions about the total profit of the company in Rupees. Assume that $1 = Rs. 45\n",
    "A.\tSpecify a Rupee range (centered on the mean) such that it contains 95% probability for the annual profit of the company.\n",
    "B.\tSpecify the 5th percentile of profit (in Rupees) for the company\n",
    "C.\tWhich of the two divisions has a larger probability of making a loss in a given year?\n"
   ]
  },
  {
   "cell_type": "code",
   "execution_count": 22,
   "id": "5eb7adbd",
   "metadata": {},
   "outputs": [],
   "source": [
    "import scipy.stats as stats\n",
    "import math\n",
    "import numpy as np"
   ]
  },
  {
   "cell_type": "code",
   "execution_count": 23,
   "id": "d96ac03d",
   "metadata": {},
   "outputs": [],
   "source": [
    "#Given Value: \n",
    "#Profit1 as X and Profit2 as Y\n",
    "mean_x = 5\n",
    "var_x = 3**2\n",
    "mean_y = 7\n",
    "var_y = 4**2\n",
    "#$1 = RS. 45\n",
    "conv_rate = 45"
   ]
  },
  {
   "cell_type": "code",
   "execution_count": 24,
   "id": "3d5e4141",
   "metadata": {},
   "outputs": [
    {
     "data": {
      "text/plain": [
       "12"
      ]
     },
     "execution_count": 24,
     "metadata": {},
     "output_type": "execute_result"
    }
   ],
   "source": [
    "#A. To find the Rupee range containing 95% probability for the annual profit of the company, we can use the properties of the normal distribution.\n",
    "mean_z = mean_x + mean_y #finding total mean\n",
    "mean_z #in $"
   ]
  },
  {
   "cell_type": "code",
   "execution_count": 25,
   "id": "9bb77082",
   "metadata": {},
   "outputs": [
    {
     "data": {
      "text/plain": [
       "5.0"
      ]
     },
     "execution_count": 25,
     "metadata": {},
     "output_type": "execute_result"
    }
   ],
   "source": [
    "stddev_z = math.sqrt(var_x + var_y)\n",
    "stddev_z #in $"
   ]
  },
  {
   "cell_type": "code",
   "execution_count": 30,
   "id": "fa7ac46f",
   "metadata": {},
   "outputs": [
    {
     "data": {
      "text/plain": [
       "(2.2, 21.8)"
      ]
     },
     "execution_count": 30,
     "metadata": {},
     "output_type": "execute_result"
    }
   ],
   "source": [
    "#interval = 95% = 0.95\n",
    "CI1, CI2 = np.round(stats.norm.interval(0.95,mean_z,stddev_z),2)\n",
    "CI1, CI2"
   ]
  },
  {
   "cell_type": "code",
   "execution_count": 31,
   "id": "b095607e",
   "metadata": {},
   "outputs": [
    {
     "data": {
      "text/plain": [
       "(99.00000000000001, 981.0)"
      ]
     },
     "execution_count": 31,
     "metadata": {},
     "output_type": "execute_result"
    }
   ],
   "source": [
    "range_rs = ((CI[0] * conv_rate) , (CI[1] * conv_rate))\n",
    "range_rs"
   ]
  },
  {
   "cell_type": "code",
   "execution_count": 34,
   "id": "43366417",
   "metadata": {},
   "outputs": [
    {
     "name": "stdout",
     "output_type": "stream",
     "text": [
      "Rupee Ranges from 99.00000000000001 to 981.0 million rupees in Annual profit of the company 95% of the time.\n"
     ]
    }
   ],
   "source": [
    "print('Rupee Ranges from', range_rs[0], 'to' , range_rs[1], 'million rupees in Annual profit of the company 95% of the time.')"
   ]
  },
  {
   "cell_type": "code",
   "execution_count": 43,
   "id": "49ff5497",
   "metadata": {},
   "outputs": [],
   "source": [
    "#B. Specify the 5th percentile of profit (in Rupees) for the company\n",
    "z_score = stats.norm.ppf(0.05)"
   ]
  },
  {
   "cell_type": "code",
   "execution_count": 44,
   "id": "ea93b19c",
   "metadata": {},
   "outputs": [
    {
     "data": {
      "text/plain": [
       "-1.6448536269514729"
      ]
     },
     "execution_count": 44,
     "metadata": {},
     "output_type": "execute_result"
    }
   ],
   "source": [
    "z_score"
   ]
  },
  {
   "cell_type": "code",
   "execution_count": 51,
   "id": "d52ed45f",
   "metadata": {},
   "outputs": [],
   "source": [
    "mean_z_RS = mean_z * 45 # converting into RS\n",
    "stddev_z_RS = stddev_z * 45"
   ]
  },
  {
   "cell_type": "code",
   "execution_count": 52,
   "id": "896e3a5e",
   "metadata": {},
   "outputs": [
    {
     "data": {
      "text/plain": [
       "169.91"
      ]
     },
     "execution_count": 52,
     "metadata": {},
     "output_type": "execute_result"
    }
   ],
   "source": [
    "percentile5 = mean_z_RS + (z_score * stddev_z_RS)\n",
    "np.round(percentile5,2)"
   ]
  },
  {
   "cell_type": "code",
   "execution_count": 54,
   "id": "e1cbbe43",
   "metadata": {},
   "outputs": [
    {
     "name": "stdout",
     "output_type": "stream",
     "text": [
      "The 5th percentile of Profit for the company is 169.9079339359186 million rupees.\n"
     ]
    }
   ],
   "source": [
    "print('The 5th percentile of Profit for the company is',percentile5, 'million rupees.' )"
   ]
  },
  {
   "cell_type": "code",
   "execution_count": 57,
   "id": "2a59a195",
   "metadata": {},
   "outputs": [
    {
     "data": {
      "text/plain": [
       "4.7790352272814705"
      ]
     },
     "execution_count": 57,
     "metadata": {},
     "output_type": "execute_result"
    }
   ],
   "source": [
    "#c. Which of the two divisions has a larger probability of making a loss in a given year?\n",
    "# The probability of Division1 making a loss\n",
    "div1 = stats.norm.cdf(0, 5,3)\n",
    "div1*100"
   ]
  },
  {
   "cell_type": "code",
   "execution_count": 58,
   "id": "f70ec31b",
   "metadata": {},
   "outputs": [
    {
     "data": {
      "text/plain": [
       "4.005915686381709"
      ]
     },
     "execution_count": 58,
     "metadata": {},
     "output_type": "execute_result"
    }
   ],
   "source": [
    "# The probability of Division2 making a loss\n",
    "div2 = stats.norm.cdf(0,7,4)\n",
    "div2*100"
   ]
  },
  {
   "cell_type": "code",
   "execution_count": 59,
   "id": "a9ff968b",
   "metadata": {},
   "outputs": [
    {
     "name": "stdout",
     "output_type": "stream",
     "text": [
      "The Division 1 has a larger Probability of making a loss\n"
     ]
    }
   ],
   "source": [
    "if div1>div2:\n",
    "    print('The Division 1 has a larger Probability of making a loss')\n",
    "else:\n",
    "    print('The Division 2 has a larger Probability of making a loss')"
   ]
  },
  {
   "cell_type": "code",
   "execution_count": null,
   "id": "30f86ed0",
   "metadata": {},
   "outputs": [],
   "source": []
  }
 ],
 "metadata": {
  "kernelspec": {
   "display_name": "Python 3 (ipykernel)",
   "language": "python",
   "name": "python3"
  },
  "language_info": {
   "codemirror_mode": {
    "name": "ipython",
    "version": 3
   },
   "file_extension": ".py",
   "mimetype": "text/x-python",
   "name": "python",
   "nbconvert_exporter": "python",
   "pygments_lexer": "ipython3",
   "version": "3.11.5"
  }
 },
 "nbformat": 4,
 "nbformat_minor": 5
}
