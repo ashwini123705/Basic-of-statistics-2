{
 "cells": [
  {
   "cell_type": "markdown",
   "id": "2e44fef4",
   "metadata": {},
   "source": [
    "2.\tThe current age (in years) of 400 clerical employees at an insurance claims processing center is normally distributed with mean  = 38 and Standard deviation  =6. For each statement below, please specify True/False. If false, briefly explain why.\n",
    "A.\tMore employees at the processing center are older than 44 than between 38 and 44."
   ]
  },
  {
   "cell_type": "code",
   "execution_count": 1,
   "id": "9792e1c6",
   "metadata": {},
   "outputs": [],
   "source": [
    "import scipy.stats as stats"
   ]
  },
  {
   "cell_type": "code",
   "execution_count": 2,
   "id": "9f74495e",
   "metadata": {},
   "outputs": [],
   "source": [
    "#Given Data\n",
    "pop_mean = 38\n",
    "std_dev = 6\n",
    "X_38 = 38\n",
    "X_44 = 44"
   ]
  },
  {
   "cell_type": "code",
   "execution_count": 3,
   "id": "919b2d53",
   "metadata": {},
   "outputs": [
    {
     "data": {
      "text/plain": [
       "0.0"
      ]
     },
     "execution_count": 3,
     "metadata": {},
     "output_type": "execute_result"
    }
   ],
   "source": [
    "#Calculate Z-score for 38\n",
    "Z_38 = (X_38 - pop_mean) / std_dev\n",
    "Z_38"
   ]
  },
  {
   "cell_type": "code",
   "execution_count": 4,
   "id": "27ca9e71",
   "metadata": {},
   "outputs": [
    {
     "data": {
      "text/plain": [
       "1.0"
      ]
     },
     "execution_count": 4,
     "metadata": {},
     "output_type": "execute_result"
    }
   ],
   "source": [
    "#Calculate Z-score for 44\n",
    "Z_44 = (X_44 - pop_mean) / std_dev\n",
    "Z_44"
   ]
  },
  {
   "cell_type": "code",
   "execution_count": 6,
   "id": "de3e0b4c",
   "metadata": {},
   "outputs": [
    {
     "data": {
      "text/plain": [
       "0.5"
      ]
     },
     "execution_count": 6,
     "metadata": {},
     "output_type": "execute_result"
    }
   ],
   "source": [
    "#Calculte probabilites\n",
    "p_value38 = stats.norm.cdf(Z_38)\n",
    "p_value38"
   ]
  },
  {
   "cell_type": "code",
   "execution_count": 7,
   "id": "1a493789",
   "metadata": {},
   "outputs": [
    {
     "data": {
      "text/plain": [
       "0.8413447460685429"
      ]
     },
     "execution_count": 7,
     "metadata": {},
     "output_type": "execute_result"
    }
   ],
   "source": [
    "p_value44 = stats.norm.cdf(Z_44)\n",
    "p_value44"
   ]
  },
  {
   "cell_type": "code",
   "execution_count": 8,
   "id": "ef16242a",
   "metadata": {},
   "outputs": [
    {
     "data": {
      "text/plain": [
       "0.3413447460685429"
      ]
     },
     "execution_count": 8,
     "metadata": {},
     "output_type": "execute_result"
    }
   ],
   "source": [
    "#Calculate the difference in probabilites\n",
    "diff_pvalue = p_value44 - p_value38\n",
    "diff_pvalue"
   ]
  },
  {
   "cell_type": "code",
   "execution_count": 10,
   "id": "722eb35e",
   "metadata": {},
   "outputs": [
    {
     "data": {
      "text/plain": [
       "True"
      ]
     },
     "execution_count": 10,
     "metadata": {},
     "output_type": "execute_result"
    }
   ],
   "source": [
    "#Check if more employees are older than 44 than between 38 and 44\n",
    "result = p_value44 > p_value38\n",
    "result"
   ]
  },
  {
   "cell_type": "code",
   "execution_count": null,
   "id": "848d261a",
   "metadata": {},
   "outputs": [],
   "source": [
    "#Therefore,employees are older than 44 than between 38 and 44"
   ]
  }
 ],
 "metadata": {
  "kernelspec": {
   "display_name": "Python 3 (ipykernel)",
   "language": "python",
   "name": "python3"
  },
  "language_info": {
   "codemirror_mode": {
    "name": "ipython",
    "version": 3
   },
   "file_extension": ".py",
   "mimetype": "text/x-python",
   "name": "python",
   "nbconvert_exporter": "python",
   "pygments_lexer": "ipython3",
   "version": "3.11.5"
  }
 },
 "nbformat": 4,
 "nbformat_minor": 5
}
